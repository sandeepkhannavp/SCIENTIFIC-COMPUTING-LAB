{
  "nbformat": 4,
  "nbformat_minor": 0,
  "metadata": {
    "colab": {
      "provenance": [],
      "collapsed_sections": [],
      "include_colab_link": true
    },
    "kernelspec": {
      "name": "python3",
      "display_name": "Python 3"
    },
    "language_info": {
      "name": "python"
    }
  },
  "cells": [
    {
      "cell_type": "markdown",
      "metadata": {
        "id": "view-in-github",
        "colab_type": "text"
      },
      "source": [
        "<a href=\"https://colab.research.google.com/github/sandeepkhannavp/SCIENTIFIC-COMPUTING-LAB/blob/main/SCL_PS7.ipynb\" target=\"_parent\"><img src=\"https://colab.research.google.com/assets/colab-badge.svg\" alt=\"Open In Colab\"/></a>"
      ]
    },
    {
      "cell_type": "markdown",
      "source": [
        "# PS7"
      ],
      "metadata": {
        "id": "6RkQKQQ00nG4"
      }
    },
    {
      "cell_type": "code",
      "execution_count": null,
      "metadata": {
        "id": "dzNP9d1xpP-f"
      },
      "outputs": [],
      "source": [
        "import sympy as sp\n",
        "x, y = sp.symbols('x, y')"
      ]
    },
    {
      "cell_type": "markdown",
      "source": [
        "## Q1"
      ],
      "metadata": {
        "id": "Etqqw9D_0uyW"
      }
    },
    {
      "cell_type": "code",
      "source": [
        "def taylorSeriesMethod(fx, x0, y0, x1):\n",
        "    arr = [y0]\n",
        "    for i in range(5):\n",
        "        arr.append(sp.diff(fx, x, i))\n",
        "    print(arr)"
      ],
      "metadata": {
        "id": "YyWe8DA7pUEZ"
      },
      "execution_count": null,
      "outputs": []
    },
    {
      "cell_type": "code",
      "source": [
        "taylorSeriesMethod(x**2 * y - 1, 0, 1, 0.1)\n",
        "# taylorSeriesMethod(x + y ** 2, 0, 1, 1)\n",
        "# taylorSeriesMethod(sp.sin(x ** 2) / (1 + x ** 2 - y), -1, 2, 2)\n",
        "# taylorSeriesMethod(sp.exp(x ** 2 - 1) / (1 + x * y + x ** 3), 0, -3, 1.5)"
      ],
      "metadata": {
        "id": "zzYkCVoapwRc"
      },
      "execution_count": null,
      "outputs": []
    },
    {
      "cell_type": "markdown",
      "source": [
        "## Q2"
      ],
      "metadata": {
        "id": "CRZ3NWVu0yGL"
      }
    },
    {
      "cell_type": "code",
      "source": [
        "def eulersMethod(fx, x0, y0, x1):\n",
        "    n = 10\n",
        "    h = (x1 - x0) / n\n",
        "    for i in range(n):\n",
        "        sub = fx.subs([(x, x0), (y, y0)])\n",
        "        x0 = x0 + h\n",
        "        y0 = y0 + h * sub\n",
        "    print(f'y({x1}) = {y0}')"
      ],
      "metadata": {
        "id": "yzRgJZz8woNj"
      },
      "execution_count": null,
      "outputs": []
    },
    {
      "cell_type": "code",
      "source": [
        "eulersMethod(x + y, 0, 1, 1)\n",
        "eulersMethod((y - x) / (y + x), 0, 1, 0.1)\n",
        "eulersMethod(x - y + sp.cos(x + y), 0.1, 1, 1.7)\n",
        "eulersMethod((x ** 2 - y ** 2) / (x ** 2 + y ** 2), 1, -2, 4)\n",
        "#eulersMethod(sp.exp(x + y) * sp.sin(x * y), 0.5, 3, 3.8)"
      ],
      "metadata": {
        "colab": {
          "base_uri": "https://localhost:8080/"
        },
        "id": "5Th2V2YgwtWl",
        "outputId": "a09ce175-a411-49e6-e907-4d767ec2f515"
      },
      "execution_count": null,
      "outputs": [
        {
          "output_type": "stream",
          "name": "stdout",
          "text": [
            "y(1) = 3.18748492020000\n",
            "y(0.1) = 1.09197506309007\n",
            "y(1.7) = 0.806820344985460\n",
            "y(4) = -2.23381886139997\n"
          ]
        }
      ]
    },
    {
      "cell_type": "markdown",
      "source": [
        "## Q3"
      ],
      "metadata": {
        "id": "0fidQ-mo018c"
      }
    },
    {
      "cell_type": "code",
      "source": [
        "def modifiedEulersMethod(fx, x0, y0, x1):\n",
        "    h = 0.1\n",
        "\n",
        "    while x1 - x0 > 0.00001:\n",
        "        y0 += h * fx.subs([(x, x0 + 0.5 * h), (y, y0 + 0.5 * h * fx.subs([(x, x0), (y, y0)]))])\n",
        "        x0 += h\n",
        "    print(f'y({x1}) = {y0}')"
      ],
      "metadata": {
        "id": "z-ZXLwMu03iL"
      },
      "execution_count": null,
      "outputs": []
    },
    {
      "cell_type": "code",
      "source": [
        "modifiedEulersMethod(x + y, 0, 1, 1)\n",
        "modifiedEulersMethod(x ** 2 - y + 2 * x + 4 * y, 0.3, -0.18, 2.5)\n",
        "modifiedEulersMethod((x + y ** 2 - 2 * x * y) / (x ** 2 - y ** 2 + 2 * x), -1, 0, 2)\n",
        "# modifiedEulersMethod(sp.cos(x + y) * sp.sin(x * y) ** 2, sp.pi, -sp.pi, 3 * sp.pi)"
      ],
      "metadata": {
        "colab": {
          "base_uri": "https://localhost:8080/"
        },
        "id": "_5VdHK4i1B8K",
        "outputId": "23dee0f8-a807-417c-bb24-900527aac182"
      },
      "execution_count": null,
      "outputs": [
        {
          "output_type": "stream",
          "name": "stdout",
          "text": [
            "y(1) = 3.42816169321645\n",
            "y(2.5) = 276.304551510263\n",
            "y(2) = 0.482105548358626\n"
          ]
        }
      ]
    },
    {
      "cell_type": "markdown",
      "source": [
        "## Q4"
      ],
      "metadata": {
        "id": "ema57na3L8mv"
      }
    },
    {
      "cell_type": "code",
      "source": [
        "def rungeKutta3Method(fx, x0, y0, x1):\n",
        "    h = 0.1\n",
        "    while x1 - x0 > 0.00001:\n",
        "        k1 = h * fx.subs([(x, x0), (y, y0)])\n",
        "        k2 = h * fx.subs([(x, x0 + 0.5 * h), (y, y0 + 0.5 * k1)])\n",
        "        kd = h * fx.subs([(x, x0 + h), (y, y0 + k1)])\n",
        "        k3 = h * fx.subs([(x, x0 + h), (y, y0 + kd)])\n",
        "        k = (k1 + 4 * k2 + k3) / 6\n",
        "        y0 += k\n",
        "        x0 += h\n",
        "    print(f'y({x1}) = {sp.N(y0)}')"
      ],
      "metadata": {
        "id": "3ymlI0OpL-QC"
      },
      "execution_count": null,
      "outputs": []
    },
    {
      "cell_type": "code",
      "source": [
        "rungeKutta3Method(x + y, 0, 1, 0.2)\n",
        "rungeKutta3Method(x * y / (x ** 2 + y ** 2 - x * y), 0, 10, 3)\n",
        "rungeKutta3Method(sp.tan(x) / sp.exp(x + y), -0.5, -1.5, 0.75)\n",
        "#rungeKutta3Method(sp.cos(x + y) * (x ** 2 + 2 * y), -2, -1, 1)"
      ],
      "metadata": {
        "colab": {
          "base_uri": "https://localhost:8080/"
        },
        "id": "8aSAlDVdMFTz",
        "outputId": "51e4ce3c-3b9d-4f11-db7f-9af3a43c977c"
      },
      "execution_count": null,
      "outputs": [
        {
          "output_type": "stream",
          "name": "stdout",
          "text": [
            "y(0.2) = 1.24278672222222\n",
            "y(3) = 10.5185628095744\n",
            "y(0.75) = -1.37724947968294\n"
          ]
        }
      ]
    },
    {
      "cell_type": "markdown",
      "source": [
        "## Q5"
      ],
      "metadata": {
        "id": "4d-gu49iZU5J"
      }
    },
    {
      "cell_type": "code",
      "source": [
        "def rungeKutta4Method(fx, x0, y0, x1):\n",
        "    h = 0.1\n",
        "    while x1 - x0 > 0.00001:\n",
        "        k1 = h * fx.subs([(x, x0), (y, y0)])\n",
        "        k2 = h * fx.subs([(x, x0 + 0.5 * h), (y, y0 + 0.5 * k1)])\n",
        "        k3 = h * fx.subs([(x, x0 + 0.5 * h), (y, y0 + 0.5 * k2)])\n",
        "        k4 = h * fx.subs([(x, x0 + h), (y, y0 + k3)])\n",
        "        k = (k1 + 2 * k2 + 2 * k3 + k4) / 6\n",
        "        y0 += k\n",
        "        x0 += h\n",
        "    print(f'y({x1}) = {sp.N(y0)}')"
      ],
      "metadata": {
        "id": "7C6E5K7TZX_l"
      },
      "execution_count": null,
      "outputs": []
    },
    {
      "cell_type": "code",
      "source": [
        "#rungeKutta4Method(x * y + x - y ** 3, 1, -4, 2.5)\n",
        "rungeKutta4Method(2 * x * y / (1 + x ** 2), 0, 0, 0.1)\n",
        "#rungeKutta4Method(sp.sin(x) + sp.exp(x ** 2 - 2 * y), 2, 10, 3)\n",
        "#rungeKutta4Method(sp.cos(x + y) * (x ** 2 + 2 * y), -2, -1, 1)"
      ],
      "metadata": {
        "colab": {
          "base_uri": "https://localhost:8080/"
        },
        "id": "dPMwnDtvakzH",
        "outputId": "6d4931d1-276b-4062-e742-da3e388a4e4f"
      },
      "execution_count": null,
      "outputs": [
        {
          "output_type": "stream",
          "name": "stdout",
          "text": [
            "y(0.1) = 0\n"
          ]
        }
      ]
    }
  ]
}