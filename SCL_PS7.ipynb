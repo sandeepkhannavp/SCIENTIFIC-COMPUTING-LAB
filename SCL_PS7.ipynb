{
  "nbformat": 4,
  "nbformat_minor": 0,
  "metadata": {
    "colab": {
      "provenance": [],
      "collapsed_sections": [],
      "include_colab_link": true
    },
    "kernelspec": {
      "name": "python3",
      "display_name": "Python 3"
    },
    "language_info": {
      "name": "python"
    }
  },
  "cells": [
    {
      "cell_type": "markdown",
      "metadata": {
        "id": "view-in-github",
        "colab_type": "text"
      },
      "source": [
        "<a href=\"https://colab.research.google.com/github/sandeepkhannavp/SCIENTIFIC-COMPUTING-LAB/blob/main/SCL_PS7.ipynb\" target=\"_parent\"><img src=\"https://colab.research.google.com/assets/colab-badge.svg\" alt=\"Open In Colab\"/></a>"
      ]
    },
    {
      "cell_type": "markdown",
      "source": [
        "### **Q1**"
      ],
      "metadata": {
        "id": "f7asvlF9cVmO"
      }
    },
    {
      "cell_type": "markdown",
      "source": [
        "**Taylor Series Method**\n",
        "\n",
        "[*Source*](https://atozmath.com/example/CONM/RungeKutta.aspx?q=ts&m=1&q1=E1)"
      ],
      "metadata": {
        "id": "Ysd-_rppcYEl"
      }
    },
    {
      "cell_type": "code",
      "source": [
        "def y(x):\n",
        "    return x"
      ],
      "metadata": {
        "id": "s0CRXhr2IvE5"
      },
      "execution_count": null,
      "outputs": []
    },
    {
      "cell_type": "code",
      "source": [
        "y = Function('y')(x)\n",
        "z = x**2 * y -1\n",
        "p = diff(z, x).subs(x, 1)\n",
        "# q = Subs(p, Derivative(y, x), 5)\n",
        "q = q.subs(y.subs(x, 1), 2)\n",
        "N(q)"
      ],
      "metadata": {
        "colab": {
          "base_uri": "https://localhost:8080/",
          "height": 37
        },
        "id": "JWHFTP6ZGLXP",
        "outputId": "4dcc934b-6c88-4f6b-c1d5-71a5e4c29c65"
      },
      "execution_count": null,
      "outputs": [
        {
          "output_type": "execute_result",
          "data": {
            "text/plain": [
              "9.00000000000000"
            ],
            "text/latex": "$\\displaystyle 9.0$"
          },
          "metadata": {},
          "execution_count": 47
        }
      ]
    },
    {
      "cell_type": "code",
      "execution_count": null,
      "metadata": {
        "id": "vjL68UetcSKG"
      },
      "outputs": [],
      "source": [
        "from sympy import *\n",
        "x = symbols('x')\n",
        "y = Function('y')(x)"
      ]
    },
    {
      "cell_type": "code",
      "source": [
        "def fact(n):\n",
        "    factorial = 1\n",
        "    for i in range(1, n + 1):\n",
        "        factorial *= i\n",
        "    return factorial\n",
        "\n",
        "def taylor_series(y_diff, x0, y0, h):\n",
        "    sum = y0\n",
        "    derivatives = []\n",
        "    derivatives.append(y0)\n",
        "    for i in range(4):\n",
        "        p = y_diff.subs(x, x0).subs(y.subs(x, x0), y0)\n",
        "        # q = Subs(p, Derivative(y, x), -1)\n",
        "        for j in range(1, len(derivatives)):\n",
        "            p = p.subs(Subs(Derivative(y, (x, j)), x, x0), derivatives[j])\n",
        "        derivatives.append(p)\n",
        "        print(p)\n",
        "        sum += (h ** (i + 1)) * p / fact(i + 1)\n",
        "        # sum += N(q.subs(y.subs(x, x0), y0))\n",
        "        # sum += (h ** (i + 1)) * y_diff.subs(x, x0).subs(y.subs(x, x0), y0) / fact(i + 1)\n",
        "        y_diff = diff(y_diff, x)\n",
        "    return N(sum)"
      ],
      "metadata": {
        "id": "K3M8Gr1udTvc"
      },
      "execution_count": null,
      "outputs": []
    },
    {
      "cell_type": "code",
      "source": [
        "# y_diff = x ** 2 * y - 1\n",
        "# x0 = 0\n",
        "# y0 = 1\n",
        "# h = 0.1\n",
        "# Y = 0.2\n",
        "\n",
        "y_diff = 2 * x - y\n",
        "x0 = 0\n",
        "y0 = -1\n",
        "h = 0.1\n",
        "\n",
        "print(taylor_series(y_diff, x0, y0, h))"
      ],
      "metadata": {
        "colab": {
          "base_uri": "https://localhost:8080/"
        },
        "id": "C8VA2odeczxV",
        "outputId": "57cd77b6-c2ef-4b43-f36e-c4b528d0aa96"
      },
      "execution_count": null,
      "outputs": [
        {
          "output_type": "stream",
          "name": "stdout",
          "text": [
            "1\n",
            "1\n",
            "-1\n",
            "1\n",
            "-0.895162500000000\n"
          ]
        }
      ]
    },
    {
      "cell_type": "markdown",
      "source": [
        "### **Q2**"
      ],
      "metadata": {
        "id": "XQHm-IJnoF7j"
      }
    },
    {
      "cell_type": "markdown",
      "source": [
        "**Euler's Method**\n",
        "\n",
        "[*Source*](https://atozmath.com/example/CONM/RungeKutta.aspx?q=euler&m=1&q1=E1)"
      ],
      "metadata": {
        "id": "LjD-yO4ioJWj"
      }
    },
    {
      "cell_type": "code",
      "source": [
        "import math\n",
        "from sympy import *\n",
        "x, y = symbols('x y')"
      ],
      "metadata": {
        "id": "F8ArIv3CoMPL"
      },
      "execution_count": null,
      "outputs": []
    },
    {
      "cell_type": "code",
      "source": [
        "y_diff = (x - y) / 2\n",
        "x0 = 0\n",
        "y0 = 1\n",
        "h = 0.1\n",
        "X_ = 0.2\n",
        "X = x0\n",
        "Y = y0\n",
        "\n",
        "while not math.isclose(X, X_):\n",
        "    Y = Y + h * y_diff.subs(x, X).subs(y, Y)\n",
        "    X += h\n",
        "print(Y)"
      ],
      "metadata": {
        "colab": {
          "base_uri": "https://localhost:8080/"
        },
        "id": "-xJjfuCbobUa",
        "outputId": "aa0184ff-0fbe-438f-8c0c-6aa45107e94c"
      },
      "execution_count": null,
      "outputs": [
        {
          "output_type": "stream",
          "name": "stdout",
          "text": [
            "0.907500000000000\n"
          ]
        }
      ]
    },
    {
      "cell_type": "markdown",
      "source": [
        "### **Q3**"
      ],
      "metadata": {
        "id": "E9wJjL8hqmjI"
      }
    },
    {
      "cell_type": "markdown",
      "source": [
        "**Modified Euler's Method**\n",
        "\n",
        "[*Source*](https://atozmath.com/example/CONM/RungeKutta.aspx?q=meuler&m=1&q1=E1)"
      ],
      "metadata": {
        "id": "Zy6AwOkfqo33"
      }
    },
    {
      "cell_type": "code",
      "source": [
        "import math\n",
        "from sympy import *\n",
        "x, y = symbols('x y')"
      ],
      "metadata": {
        "id": "bnvl-Mtqq0IA"
      },
      "execution_count": null,
      "outputs": []
    },
    {
      "cell_type": "code",
      "source": [
        "y_diff = (x - y) / 2\n",
        "x0 = 0\n",
        "y0 = 1\n",
        "h = 0.1\n",
        "X_ = 0.2\n",
        "X = x0\n",
        "Y = y0\n",
        "\n",
        "while not math.isclose(X, X_):\n",
        "    Y = Y + h * y_diff.subs(x, X + 0.5 * h).subs(y, Y + 0.5 * h * y_diff.subs(x, X).subs(y, Y))\n",
        "    X += h\n",
        "print(Y)"
      ],
      "metadata": {
        "colab": {
          "base_uri": "https://localhost:8080/"
        },
        "id": "pzWJiSALq3SA",
        "outputId": "14941e75-899b-4808-e64c-8592bda2387b"
      },
      "execution_count": null,
      "outputs": [
        {
          "output_type": "stream",
          "name": "stdout",
          "text": [
            "0.914629687500000\n"
          ]
        }
      ]
    },
    {
      "cell_type": "markdown",
      "source": [
        "### **Q4**"
      ],
      "metadata": {
        "id": "7iUlx2DCrQwh"
      }
    },
    {
      "cell_type": "markdown",
      "source": [
        "**Runge-Kutta Method of Third Order**\n",
        "\n",
        "[*Source*](https://atozmath.com/example/CONM/RungeKutta.aspx?q=rk3&m=1&q1=E1)"
      ],
      "metadata": {
        "id": "26GZ0HhHrSUg"
      }
    },
    {
      "cell_type": "code",
      "source": [
        "import math\n",
        "from sympy import *\n",
        "x, y = symbols('x y')"
      ],
      "metadata": {
        "id": "jbV2Ynh8rlCJ"
      },
      "execution_count": null,
      "outputs": []
    },
    {
      "cell_type": "code",
      "source": [
        "y_diff = (x - y) / 2\n",
        "x0 = 0\n",
        "y0 = 1\n",
        "h = 0.1\n",
        "X_ = 0.2\n",
        "X = x0\n",
        "Y = y0\n",
        "\n",
        "while not math.isclose(X, X_):\n",
        "    k1 = h * y_diff.subs(x, X).subs(y, Y)\n",
        "    k2 = h * y_diff.subs(x, X + h / 2).subs(y, Y + k1 / 2)\n",
        "    k3 = h * y_diff.subs(x, X + h).subs(y, Y + 2 * k2 - k1)\n",
        "    Y = Y + (k1 + 4 * k2 + k3) / 6\n",
        "    X += h\n",
        "\n",
        "print(Y)"
      ],
      "metadata": {
        "colab": {
          "base_uri": "https://localhost:8080/"
        },
        "id": "qIWhi5ZtriDI",
        "outputId": "d5befb5f-82d7-4a4f-cb27-0524c62f6bae"
      },
      "execution_count": null,
      "outputs": [
        {
          "output_type": "stream",
          "name": "stdout",
          "text": [
            "0.914510782552083\n"
          ]
        }
      ]
    },
    {
      "cell_type": "markdown",
      "source": [
        "### **Q5**"
      ],
      "metadata": {
        "id": "15eCug9isl7Z"
      }
    },
    {
      "cell_type": "markdown",
      "source": [
        "**Runge-Kutta Method of Fourth Order**\n",
        "\n",
        "[*Source*](https://atozmath.com/example/CONM/RungeKutta.aspx?q=rk4&m=1&q1=E1)"
      ],
      "metadata": {
        "id": "Rjk3ZtUPsn2q"
      }
    },
    {
      "cell_type": "code",
      "source": [
        "from sympy import *\n",
        "x, y = symbols('x y')"
      ],
      "metadata": {
        "id": "EdoJTHyls1aK"
      },
      "execution_count": null,
      "outputs": []
    },
    {
      "cell_type": "code",
      "source": [
        "y_diff = (x - y) / 2\n",
        "x0 = 0\n",
        "y0 = 1\n",
        "h = 0.1\n",
        "X_ = 0.2\n",
        "X = x0\n",
        "Y = y0\n",
        "\n",
        "while X != X_:\n",
        "    k1 = h * y_diff.subs(x, X).subs(y, Y)\n",
        "    k2 = h * y_diff.subs(x, X + h / 2).subs(y, Y + k1 / 2)\n",
        "    k3 = h * y_diff.subs(x, X + h / 2).subs(y, Y + k2 / 2)\n",
        "    k4 = h * y_diff.subs(x, X + h).subs(y, Y + k3)\n",
        "    Y = Y + (k1 + 2 * k2 + 2 * k3 + k4) / 6\n",
        "    X += h\n",
        "\n",
        "print(Y)"
      ],
      "metadata": {
        "colab": {
          "base_uri": "https://localhost:8080/"
        },
        "id": "yRFFik1ws3_K",
        "outputId": "3ac204bf-c36b-4a2c-9237-35f3b802b860"
      },
      "execution_count": null,
      "outputs": [
        {
          "output_type": "stream",
          "name": "stdout",
          "text": [
            "0.914512268847860\n"
          ]
        }
      ]
    }
  ]
}