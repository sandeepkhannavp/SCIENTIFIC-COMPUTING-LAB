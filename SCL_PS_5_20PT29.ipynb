{
  "nbformat": 4,
  "nbformat_minor": 0,
  "metadata": {
    "colab": {
      "provenance": [],
      "collapsed_sections": [],
      "include_colab_link": true
    },
    "kernelspec": {
      "name": "python3",
      "display_name": "Python 3"
    },
    "language_info": {
      "name": "python"
    }
  },
  "cells": [
    {
      "cell_type": "markdown",
      "metadata": {
        "id": "view-in-github",
        "colab_type": "text"
      },
      "source": [
        "<a href=\"https://colab.research.google.com/github/sandeepkhannavp/SCIENTIFIC-COMPUTING-LAB/blob/main/SCL_PS_5_20PT29.ipynb\" target=\"_parent\"><img src=\"https://colab.research.google.com/assets/colab-badge.svg\" alt=\"Open In Colab\"/></a>"
      ]
    },
    {
      "cell_type": "markdown",
      "source": [
        "### **Cubic Spline Interpolation Method**\n",
        "*Used to find a curve by merging smaller curves of degree three or less*\n",
        "\n"
      ],
      "metadata": {
        "id": "TkOMeU2HXuOX"
      }
    },
    {
      "cell_type": "code",
      "source": [
        "from sympy import *"
      ],
      "metadata": {
        "id": "MRWCGF6pjYfz"
      },
      "execution_count": null,
      "outputs": []
    },
    {
      "cell_type": "code",
      "source": [
        "x = [0, 1, 2, 3]\n",
        "y = [1, 2, 9, 28]\n",
        "X = 2.5\n",
        "\n",
        "x = [1, 2, 3, 4]\n",
        "y = [1, 5, 11, 8]\n",
        "X0 = 1.5\n",
        "\n",
        "h = x[1] - x[0]\n",
        "n = len(x) - 1\n",
        "\n",
        "X = symbols('X')\n",
        "m = symbols('m0:%d' % (n + 1))\n",
        "M = {0: 0, n: 0}\n",
        "expr = []\n",
        "\n",
        "for i in range(1, n):\n",
        "     expr.append(m[i - 1] + 4 * m[i] + m[i + 1] - (6 / h ** 2) * (y[i - 1] - 2 * y[i] + y[i + 1]))\n",
        "     for j in M:\n",
        "         expr[i - 1] = expr[i - 1].subs(m[j], M[j])\n",
        "\n",
        "sol = solve(tuple(expr), tuple(m))\n",
        "\n",
        "for i in range(len(sol)):\n",
        "    M[i + 1] = sol[m[i + 1]]\n",
        "\n",
        "ind = 0\n",
        "for i in range(n):\n",
        "    if X0 >= x[i]:\n",
        "        ind = i + 1\n",
        "\n",
        "Y = (x[ind] - X0) ** 3 * M[ind - 1] / (6 * h) + (X0 - x[ind - 1]) ** 3 * M[ind] / (6 * h) + (x[ind] - X0) * (y[ind - 1] - (h ** 2 / 6) * M[ind - 1]) / h + (X0 - x[ind - 1]) * (y[ind] - h ** 2 * M[ind] / 6) / h\n",
        "print(\"(\", X0, \", \", Y, \")\", sep = \"\")"
      ],
      "metadata": {
        "colab": {
          "base_uri": "https://localhost:8080/"
        },
        "id": "xmG_1K22X0DP",
        "outputId": "47f7114b-20ee-408a-aeaf-5e1230986fcb"
      },
      "execution_count": null,
      "outputs": [
        {
          "output_type": "stream",
          "name": "stdout",
          "text": [
            "(1.5, 2.57500000000000)\n"
          ]
        }
      ]
    },
    {
      "cell_type": "markdown",
      "source": [
        "### **Lagrange's Interpolation Method**"
      ],
      "metadata": {
        "id": "G3j4fh-Wa4Ro"
      }
    },
    {
      "cell_type": "code",
      "source": [
        "x = [5, 6, 9, 11]\n",
        "y = [12, 13, 14, 16]\n",
        "X = 10\n",
        "\n",
        "Y = 0\n",
        "\n",
        "for i in range(len(x)):\n",
        "    numerator = 1\n",
        "    denominator = 1\n",
        "    for j in range(len(x)):\n",
        "        if j != i:\n",
        "            numerator *= (X - x[j])\n",
        "            denominator *= (x[i] - x[j])\n",
        "    Y += numerator / denominator * y[i]\n",
        "\n",
        "print(\"(\", X, \", \", Y, \")\", sep = \"\")"
      ],
      "metadata": {
        "colab": {
          "base_uri": "https://localhost:8080/"
        },
        "id": "ROIWznd6a75_",
        "outputId": "cc0383ea-3715-4d2f-b5bf-43fc42d5354a"
      },
      "execution_count": null,
      "outputs": [
        {
          "output_type": "stream",
          "name": "stdout",
          "text": [
            "(10, 14.666666666666668)\n"
          ]
        }
      ]
    },
    {
      "cell_type": "markdown",
      "source": [
        "### **Inverse Lagrange's Interpolation Method**"
      ],
      "metadata": {
        "id": "-ksJAVpscHeB"
      }
    },
    {
      "cell_type": "code",
      "source": [
        "x = [2, 5, 8, 14]\n",
        "y = [94.8, 87.9, 81.3, 68.7]\n",
        "Y = 85\n",
        "\n",
        "X = 0\n",
        "\n",
        "for i in range(len(y)):\n",
        "    numerator = 1\n",
        "    denominator = 1\n",
        "    for j in range(len(y)):\n",
        "        if j != i:\n",
        "            numerator *= (Y - y[j])\n",
        "            denominator *= (y[i] - y[j])\n",
        "    X += numerator / denominator * x[i]\n",
        "\n",
        "print(\"(\", X, \", \", Y, \")\", sep = \"\")"
      ],
      "metadata": {
        "colab": {
          "base_uri": "https://localhost:8080/"
        },
        "id": "fXjjs8_FcNc6",
        "outputId": "3b2fb50c-f9b5-4705-f066-bf0aa5292504"
      },
      "execution_count": null,
      "outputs": [
        {
          "output_type": "stream",
          "name": "stdout",
          "text": [
            "(147.0, 6)\n"
          ]
        }
      ]
    },
    {
      "cell_type": "markdown",
      "source": [
        "### **Newton's Forward/Backward Interpolation Method**\n",
        "*Forward Interpolation is particularly useful for interpolating the values of f(x) near the beginning of the set of values given*"
      ],
      "metadata": {
        "id": "CipqeyJFdAOM"
      }
    },
    {
      "cell_type": "markdown",
      "source": [
        "**Newton's Forward Difference Interpolation**"
      ],
      "metadata": {
        "id": "dfr2uLZQg0gM"
      }
    },
    {
      "cell_type": "code",
      "source": [
        "def factorial(x):\n",
        "    fact = 1\n",
        "    for i in range(1, x + 1):\n",
        "        fact *= i\n",
        "    return fact"
      ],
      "metadata": {
        "id": "MB6HKKx0gJfU"
      },
      "execution_count": null,
      "outputs": []
    },
    {
      "cell_type": "code",
      "source": [
        "def newtonDifferenceTable(x, y, X):\n",
        "    n = len(x)\n",
        "    m = n\n",
        "    table = []\n",
        "    table.append(y)\n",
        "\n",
        "    for i in range(n - 1):\n",
        "        values = []\n",
        "        for j in range(m - 1):\n",
        "            values.append(table[i][j + 1] - table[i][j])\n",
        "        table.append(values)\n",
        "        m -= 1\n",
        "\n",
        "    return table"
      ],
      "metadata": {
        "id": "nt5x3oZMeSjU"
      },
      "execution_count": null,
      "outputs": []
    },
    {
      "cell_type": "code",
      "source": [
        "x = [3, 4, 5, 6, 7, 8, 9]\n",
        "y = [4.8, 8.4, 14.5, 23.6, 36.2, 52.8, 73.9]\n",
        "X = 3.5\n",
        "\n",
        "x = [1891, 1901, 1911, 1921, 1931]\n",
        "y = [46, 66, 81, 93, 101]\n",
        "X= 1895\n",
        "\n",
        "h = x[1] - x[0]\n",
        "u = (X - x[0]) / h\n",
        "\n",
        "table = newtonDifferenceTable(x, y, X)\n",
        "\n",
        "Y = 0\n",
        "for i in range(len(x)):\n",
        "    temp = table[i][0]\n",
        "    for j in range(i):\n",
        "        temp *= (u - j)\n",
        "    temp /= factorial(i)\n",
        "    Y += temp\n",
        "\n",
        "print(\"(\", X, \", \", Y, \")\", sep = \"\")"
      ],
      "metadata": {
        "colab": {
          "base_uri": "https://localhost:8080/"
        },
        "id": "UXHXT1cJdHW8",
        "outputId": "b0fcf38c-ab7b-42a9-b13f-33ca7dc3bee4"
      },
      "execution_count": null,
      "outputs": [
        {
          "output_type": "stream",
          "name": "stdout",
          "text": [
            "(1895, 54.8528)\n"
          ]
        }
      ]
    },
    {
      "cell_type": "markdown",
      "source": [
        "**Newton's Backward Difference Interpolation**"
      ],
      "metadata": {
        "id": "B7GZIHNFg7EM"
      }
    },
    {
      "cell_type": "code",
      "source": [
        "x = [3, 4, 5, 6, 7, 8, 9]\n",
        "y = [4.8, 8.4, 14.5, 23.6, 36.2, 52.8, 73.9]\n",
        "X = 8.5\n",
        "\n",
        "x = [1891, 1901, 1911, 1921, 1931]\n",
        "y = [46, 66, 81, 93, 101]\n",
        "X = 1925\n",
        "\n",
        "h = x[1] - x[0]\n",
        "u = (X - x[-1]) / h\n",
        "\n",
        "table = newtonDifferenceTable(x, y, X)\n",
        "\n",
        "Y = 0\n",
        "for i in range(len(x)):\n",
        "    temp = table[i][-1]\n",
        "    for j in range(i):\n",
        "        temp *= (u + j)\n",
        "    temp /= factorial(i)\n",
        "    Y += temp\n",
        "\n",
        "print(\"(\", X, \", \", Y, \")\", sep = \"\")"
      ],
      "metadata": {
        "colab": {
          "base_uri": "https://localhost:8080/"
        },
        "id": "6zL03adZg8Z0",
        "outputId": "83acabf8-7be4-4ba5-f494-103e03ddd272"
      },
      "execution_count": null,
      "outputs": [
        {
          "output_type": "stream",
          "name": "stdout",
          "text": [
            "(1925, 96.83680000000001)\n"
          ]
        }
      ]
    }
  ]
}