{
  "nbformat": 4,
  "nbformat_minor": 0,
  "metadata": {
    "colab": {
      "provenance": [],
      "collapsed_sections": [],
      "include_colab_link": true
    },
    "kernelspec": {
      "name": "python3",
      "display_name": "Python 3"
    },
    "language_info": {
      "name": "python"
    }
  },
  "cells": [
    {
      "cell_type": "markdown",
      "metadata": {
        "id": "view-in-github",
        "colab_type": "text"
      },
      "source": [
        "<a href=\"https://colab.research.google.com/github/sandeepkhannavp/SCIENTIFIC-COMPUTING-LAB/blob/main/SCL_PS8.ipynb\" target=\"_parent\"><img src=\"https://colab.research.google.com/assets/colab-badge.svg\" alt=\"Open In Colab\"/></a>"
      ]
    },
    {
      "cell_type": "markdown",
      "source": [
        "**a)**"
      ],
      "metadata": {
        "id": "MpSm4ZxRqsvJ"
      }
    },
    {
      "cell_type": "markdown",
      "source": [
        "### **Milne’s Predictor Corrector Method**\n",
        "\n",
        "[Theory](https://atozmath.com/example/CONM/PredCorrector.aspx?q=milnes&q1=E1)"
      ],
      "metadata": {
        "id": "PN5LbLk5I2UJ"
      }
    },
    {
      "cell_type": "code",
      "source": [
        "from sympy import *\n",
        "x, y = symbols('x y')"
      ],
      "metadata": {
        "id": "uTRBraEWJZtw"
      },
      "execution_count": null,
      "outputs": []
    },
    {
      "cell_type": "code",
      "execution_count": null,
      "metadata": {
        "colab": {
          "base_uri": "https://localhost:8080/"
        },
        "id": "6ID5P8mGItOi",
        "outputId": "8981f993-8dd9-4864-f809-8950059c20e4"
      },
      "outputs": [
        {
          "output_type": "stream",
          "name": "stdout",
          "text": [
            "6.87100000000000\n",
            "6.87316666666667\n"
          ]
        }
      ],
      "source": [
        "y_diff = (x + y) / 2\n",
        "X = [0, 0.5, 1, 1.5]\n",
        "Y = [2, 2.636, 3.595, 4.968]\n",
        "\n",
        "n = len(X) - 1\n",
        "h = X[1] - X[0]\n",
        "\n",
        "# Predicting\n",
        "value = Y[n - 3] + (4 * h / 3) * (2 * y_diff.subs(x, X[n - 2]).subs(y, Y[n - 2]) - y_diff.subs(x, X[n - 1]).subs(y, Y[n - 1]) + 2 * y_diff.subs(x, X[n]).subs(y, Y[n]))\n",
        "\n",
        "# Correcting\n",
        "value = Y[n - 1] + (h / 3) * (y_diff.subs(x, X[n - 1]).subs(y, Y[n - 1]) + 4 * y_diff.subs(x, X[n]).subs(y, Y[n]) + y_diff.subs(x, X[n] + h).subs(y, value))\n",
        "print(value)"
      ]
    },
    {
      "cell_type": "markdown",
      "source": [
        "### **Adam's Bashforth Predictor**\n",
        "\n",
        "[Theory](https://atozmath.com/example/CONM/PredCorrector.aspx?q=adams&q1=E1)"
      ],
      "metadata": {
        "id": "qSEfJ9wTMMGg"
      }
    },
    {
      "cell_type": "code",
      "source": [
        "from sympy import *\n",
        "x, y = symbols('x y')"
      ],
      "metadata": {
        "id": "Du7ilMiCMXxI"
      },
      "execution_count": null,
      "outputs": []
    },
    {
      "cell_type": "code",
      "source": [
        "y_diff = (x + y) / 2\n",
        "X = [0, 0.5, 1, 1.5]\n",
        "Y = [2, 2.636, 3.595, 4.968]\n",
        "\n",
        "n = len(X) - 1\n",
        "h = X[1] - X[0]\n",
        "\n",
        "# Predicting\n",
        "value = Y[n] + (h / 24) * (55 * y_diff.subs(x, X[n]).subs(y, Y[n]) - 59 * y_diff.subs(x, X[n - 1]).subs(y, Y[n - 1]) + 37 * y_diff.subs(x, X[n - 2]).subs(y, Y[n - 2]) - 9 * y_diff.subs(x, X[n - 3]).subs(y, Y[n - 3]))\n",
        "\n",
        "# Correcting\n",
        "value = Y[n] + (h / 24) * (9 * y_diff.subs(x, X[n] + h).subs(y, value) + 19 * y_diff.subs(x, X[n]).subs(y, Y[n]) - 5 * y_diff.subs(x, X[n - 1]).subs(y, Y[n - 1]) + y_diff.subs(x, X[n - 2]).subs(y, Y[n - 2]))\n",
        "print(value)"
      ],
      "metadata": {
        "colab": {
          "base_uri": "https://localhost:8080/"
        },
        "id": "9kDdmIbjMgHo",
        "outputId": "3700fc33-2869-4db0-ace0-e1bae91efb4f"
      },
      "execution_count": null,
      "outputs": [
        {
          "output_type": "stream",
          "name": "stdout",
          "text": [
            "6.87310449218750\n"
          ]
        }
      ]
    },
    {
      "cell_type": "markdown",
      "source": [
        "**c)**"
      ],
      "metadata": {
        "id": "CHdg_DFOqoyB"
      }
    },
    {
      "cell_type": "code",
      "source": [
        "from sympy import *\n",
        "x, y = symbols('x y')"
      ],
      "metadata": {
        "id": "uwz5OuU6q4Q5"
      },
      "execution_count": null,
      "outputs": []
    },
    {
      "cell_type": "code",
      "source": [
        "y_diff = (2 * x * y) / (1 + x ** 2)\n",
        "x0 = 0\n",
        "y0 = 0\n",
        "h = 0.1\n",
        "X_ = 0.4\n",
        "X = x0\n",
        "Y = y0\n",
        "xList = []\n",
        "yList = []\n",
        "\n",
        "while X < X_:\n",
        "    xList.append(X)\n",
        "    k1 = h * y_diff.subs(x, X).subs(y, Y)\n",
        "    k2 = h * y_diff.subs(x, X + h / 2).subs(y, Y + k1 / 2)\n",
        "    k3 = h * y_diff.subs(x, X + h / 2).subs(y, Y + k2 / 2)\n",
        "    k4 = h * y_diff.subs(x, X + h).subs(y, Y + k3)\n",
        "    Y = Y + (k1 + 2 * k2 + 2 * k3 + k4) / 6\n",
        "    yList.append(Y)\n",
        "    X += h\n",
        "\n",
        "print(xList)\n",
        "print(yList)"
      ],
      "metadata": {
        "colab": {
          "base_uri": "https://localhost:8080/"
        },
        "id": "892sbxkqq494",
        "outputId": "ffdd7d6c-6612-48b9-b38f-070aa83dc984"
      },
      "execution_count": null,
      "outputs": [
        {
          "output_type": "stream",
          "name": "stdout",
          "text": [
            "[0, 0.1, 0.2, 0.30000000000000004]\n",
            "[0, 0, 0, 0]\n"
          ]
        }
      ]
    },
    {
      "cell_type": "markdown",
      "source": [
        "Milne's Method"
      ],
      "metadata": {
        "id": "rqoFAaiKsKww"
      }
    },
    {
      "cell_type": "code",
      "source": [
        "n = len(xList) - 1\n",
        "h = xList[1] - xList[0]\n",
        "\n",
        "# Predicting\n",
        "value = yList[n - 3] + (4 * h / 3) * (2 * y_diff.subs(x, xList[n - 2]).subs(y, yList[n - 2]) - y_diff.subs(x, xList[n - 1]).subs(y, yList[n - 1]) + 2 * y_diff.subs(x, xList[n]).subs(y, yList[n]))\n",
        "\n",
        "# Correcting\n",
        "value = yList[n - 1] + (h / 3) * (y_diff.subs(x, xList[n - 1]).subs(y, yList[n - 1]) + 4 * y_diff.subs(x, xList[n]).subs(y, yList[n]) + y_diff.subs(x, xList[n] + h).subs(y, value))\n",
        "print(value)"
      ],
      "metadata": {
        "colab": {
          "base_uri": "https://localhost:8080/"
        },
        "id": "9h5c8BLWsMQS",
        "outputId": "603adb7e-8254-454d-acc4-22994746e587"
      },
      "execution_count": null,
      "outputs": [
        {
          "output_type": "stream",
          "name": "stdout",
          "text": [
            "0\n"
          ]
        }
      ]
    },
    {
      "cell_type": "markdown",
      "source": [
        "Adam's Bashforth Method"
      ],
      "metadata": {
        "id": "KpR1TrhmsmxB"
      }
    },
    {
      "cell_type": "code",
      "source": [
        "n = len(xList) - 1\n",
        "h = xList[1] - xList[0]\n",
        "\n",
        "# Predicting\n",
        "value = yList[n] + (h / 24) * (55 * y_diff.subs(x, xList[n]).subs(y, yList[n]) - 59 * y_diff.subs(x, xList[n - 1]).subs(y, yList[n - 1]) + 37 * y_diff.subs(x, xList[n - 2]).subs(y, yList[n - 2]) - 9 * y_diff.subs(x, xList[n - 3]).subs(y, yList[n - 3]))\n",
        "\n",
        "# Correcting\n",
        "value = yList[n] + (h / 24) * (9 * y_diff.subs(x, xList[n] + h).subs(y, value) + 19 * y_diff.subs(x, xList[n]).subs(y, yList[n]) - 5 * y_diff.subs(x, xList[n - 1]).subs(y, yList[n - 1]) + y_diff.subs(x, xList[n - 2]).subs(y, yList[n - 2]))\n",
        "print(value)"
      ],
      "metadata": {
        "colab": {
          "base_uri": "https://localhost:8080/"
        },
        "id": "eJRuPKNgsp7Z",
        "outputId": "634c950d-2e42-4ef9-e555-2c11cdc89acd"
      },
      "execution_count": null,
      "outputs": [
        {
          "output_type": "stream",
          "name": "stdout",
          "text": [
            "0\n"
          ]
        }
      ]
    },
    {
      "cell_type": "markdown",
      "source": [
        "**d)**"
      ],
      "metadata": {
        "id": "lh5ywk9NtDRJ"
      }
    },
    {
      "cell_type": "code",
      "source": [
        "from sympy import *\n",
        "x, y = symbols('x y')"
      ],
      "metadata": {
        "id": "Ymhfma_0tEx5"
      },
      "execution_count": null,
      "outputs": []
    },
    {
      "cell_type": "code",
      "source": [
        "y_diff = (2 * x * y) / (1 + x ** 2)\n",
        "x0 = 0\n",
        "y0 = 0\n",
        "h = 0.1\n",
        "X_ = 0.4\n",
        "X = x0\n",
        "Y = y0\n",
        "xList = []\n",
        "yList = []\n",
        "\n",
        "while X < X_:\n",
        "    Y = Y + h * y_diff.subs(x, X).subs(y, Y)\n",
        "    xList.append(X)\n",
        "    yList.append(Y)\n",
        "    X += h\n",
        "print(Y)"
      ],
      "metadata": {
        "colab": {
          "base_uri": "https://localhost:8080/"
        },
        "id": "KPwtFG5CtGcq",
        "outputId": "abe9833b-8476-4a02-d549-5241ce3ad4e2"
      },
      "execution_count": null,
      "outputs": [
        {
          "output_type": "stream",
          "name": "stdout",
          "text": [
            "0\n"
          ]
        }
      ]
    },
    {
      "cell_type": "markdown",
      "source": [
        "Milne's Method"
      ],
      "metadata": {
        "id": "dr20OVDYteCt"
      }
    },
    {
      "cell_type": "code",
      "source": [
        "n = len(xList) - 1\n",
        "h = xList[1] - xList[0]\n",
        "\n",
        "# Predicting\n",
        "value = yList[n - 3] + (4 * h / 3) * (2 * y_diff.subs(x, xList[n - 2]).subs(y, yList[n - 2]) - y_diff.subs(x, xList[n - 1]).subs(y, yList[n - 1]) + 2 * y_diff.subs(x, xList[n]).subs(y, yList[n]))\n",
        "\n",
        "# Correcting\n",
        "value = yList[n - 1] + (h / 3) * (y_diff.subs(x, xList[n - 1]).subs(y, yList[n - 1]) + 4 * y_diff.subs(x, xList[n]).subs(y, yList[n]) + y_diff.subs(x, xList[n] + h).subs(y, value))\n",
        "print(value)"
      ],
      "metadata": {
        "colab": {
          "base_uri": "https://localhost:8080/"
        },
        "id": "Ny8kDeL1tfb8",
        "outputId": "61af7a04-af82-4609-eb5c-bd2671f51957"
      },
      "execution_count": null,
      "outputs": [
        {
          "output_type": "stream",
          "name": "stdout",
          "text": [
            "0\n"
          ]
        }
      ]
    },
    {
      "cell_type": "markdown",
      "source": [
        "Adam's Bashforth Method"
      ],
      "metadata": {
        "id": "VzYX6C8xthMF"
      }
    },
    {
      "cell_type": "code",
      "source": [
        "n = len(xList) - 1\n",
        "h = xList[1] - xList[0]\n",
        "\n",
        "# Predicting\n",
        "value = yList[n] + (h / 24) * (55 * y_diff.subs(x, xList[n]).subs(y, yList[n]) - 59 * y_diff.subs(x, xList[n - 1]).subs(y, yList[n - 1]) + 37 * y_diff.subs(x, xList[n - 2]).subs(y, yList[n - 2]) - 9 * y_diff.subs(x, xList[n - 3]).subs(y, yList[n - 3]))\n",
        "\n",
        "# Correcting\n",
        "value = yList[n] + (h / 24) * (9 * y_diff.subs(x, xList[n] + h).subs(y, value) + 19 * y_diff.subs(x, xList[n]).subs(y, yList[n]) - 5 * y_diff.subs(x, xList[n - 1]).subs(y, yList[n - 1]) + y_diff.subs(x, xList[n - 2]).subs(y, yList[n - 2]))\n",
        "print(value)"
      ],
      "metadata": {
        "colab": {
          "base_uri": "https://localhost:8080/"
        },
        "id": "7DShxg8ctjT_",
        "outputId": "1220a20b-044a-4568-bb90-28539ca191d8"
      },
      "execution_count": null,
      "outputs": [
        {
          "output_type": "stream",
          "name": "stdout",
          "text": [
            "0\n"
          ]
        }
      ]
    },
    {
      "cell_type": "markdown",
      "source": [
        "**e)**"
      ],
      "metadata": {
        "id": "b-x6R0FItnVF"
      }
    },
    {
      "cell_type": "code",
      "source": [
        "from sympy import *\n",
        "x, y = symbols('x y')"
      ],
      "metadata": {
        "id": "tKbEqXmHtpJe"
      },
      "execution_count": null,
      "outputs": []
    },
    {
      "cell_type": "code",
      "source": [
        "y_diff = (2 - y ** 2) / (5 * x)\n",
        "x0 = float(4.00)\n",
        "y0 = float(1.00)\n",
        "h = float(0.10)\n",
        "X_ = float(4.35)\n",
        "X = x0\n",
        "Y = y0\n",
        "xList = []\n",
        "yList = []\n",
        "xList.append(x0)\n",
        "yList.append(y0)\n",
        "X += h\n",
        "\n",
        "while X < X_:\n",
        "    Y = Y + h * y_diff.subs(x, X + 0.5 * h).subs(y, Y + 0.5 * h * y_diff.subs(x, X).subs(y, Y))\n",
        "    xList.append(X)\n",
        "    yList.append(Y)\n",
        "    X += h\n",
        "\n",
        "print(xList)\n",
        "print(yList)"
      ],
      "metadata": {
        "colab": {
          "base_uri": "https://localhost:8080/"
        },
        "id": "SHWiH2tBtqhO",
        "outputId": "0d8009fe-dd9c-4764-b88c-0274f83b7d5a"
      },
      "execution_count": null,
      "outputs": [
        {
          "output_type": "stream",
          "name": "stdout",
          "text": [
            "[4.0, 4.1, 4.199999999999999, 4.299999999999999]\n",
            "[1.0, 1.00479573977050, 1.00943405140376, 1.01392339233686]\n"
          ]
        }
      ]
    },
    {
      "cell_type": "markdown",
      "source": [
        "Milne's Method"
      ],
      "metadata": {
        "id": "lk9-8Mpnu2Dr"
      }
    },
    {
      "cell_type": "code",
      "source": [
        "n = len(xList) - 1\n",
        "h = xList[1] - xList[0]\n",
        "\n",
        "# Predicting\n",
        "value = yList[n - 3] + (4 * h / 3) * (2 * y_diff.subs(x, xList[n - 2]).subs(y, yList[n - 2]) - y_diff.subs(x, xList[n - 1]).subs(y, yList[n - 1]) + 2 * y_diff.subs(x, xList[n]).subs(y, yList[n]))\n",
        "\n",
        "# Correcting\n",
        "value = yList[n - 1] + (h / 3) * (y_diff.subs(x, xList[n - 1]).subs(y, yList[n - 1]) + 4 * y_diff.subs(x, xList[n]).subs(y, yList[n]) + y_diff.subs(x, xList[n] + h).subs(y, value))\n",
        "print(value)"
      ],
      "metadata": {
        "colab": {
          "base_uri": "https://localhost:8080/"
        },
        "id": "F1l_BMN-u39U",
        "outputId": "63e6cb2c-2c40-4827-d78a-db3f3a0ab511"
      },
      "execution_count": null,
      "outputs": [
        {
          "output_type": "stream",
          "name": "stdout",
          "text": [
            "1.01847684285805\n"
          ]
        }
      ]
    },
    {
      "cell_type": "markdown",
      "source": [
        "Adam's Bashforth Method"
      ],
      "metadata": {
        "id": "81qorZzxu4gk"
      }
    },
    {
      "cell_type": "code",
      "source": [
        "n = len(xList) - 1\n",
        "h = xList[1] - xList[0]\n",
        "\n",
        "# Predicting\n",
        "value = yList[n] + (h / 24) * (55 * y_diff.subs(x, xList[n]).subs(y, yList[n]) - 59 * y_diff.subs(x, xList[n - 1]).subs(y, yList[n - 1]) + 37 * y_diff.subs(x, xList[n - 2]).subs(y, yList[n - 2]) - 9 * y_diff.subs(x, xList[n - 3]).subs(y, yList[n - 3]))\n",
        "\n",
        "# Correcting\n",
        "value = yList[n] + (h / 24) * (9 * y_diff.subs(x, xList[n] + h).subs(y, value) + 19 * y_diff.subs(x, xList[n]).subs(y, yList[n]) - 5 * y_diff.subs(x, xList[n - 1]).subs(y, yList[n - 1]) + y_diff.subs(x, xList[n - 2]).subs(y, yList[n - 2]))\n",
        "print(value)"
      ],
      "metadata": {
        "colab": {
          "base_uri": "https://localhost:8080/"
        },
        "id": "7fG8HIqEu6iN",
        "outputId": "51848512-6bfc-4d11-e1d7-dcdb4bdc9308"
      },
      "execution_count": null,
      "outputs": [
        {
          "output_type": "stream",
          "name": "stdout",
          "text": [
            "1.01837169171908\n"
          ]
        }
      ]
    }
  ]
}