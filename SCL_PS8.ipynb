{
  "nbformat": 4,
  "nbformat_minor": 0,
  "metadata": {
    "colab": {
      "provenance": [],
      "include_colab_link": true
    },
    "kernelspec": {
      "name": "python3",
      "display_name": "Python 3"
    },
    "language_info": {
      "name": "python"
    }
  },
  "cells": [
    {
      "cell_type": "markdown",
      "metadata": {
        "id": "view-in-github",
        "colab_type": "text"
      },
      "source": [
        "<a href=\"https://colab.research.google.com/github/sandeepkhannavp/SCIENTIFIC-COMPUTING-LAB/blob/main/SCL_PS8.ipynb\" target=\"_parent\"><img src=\"https://colab.research.google.com/assets/colab-badge.svg\" alt=\"Open In Colab\"/></a>"
      ]
    },
    {
      "cell_type": "markdown",
      "source": [
        "# PS8"
      ],
      "metadata": {
        "id": "KQXumMZtcD2b"
      }
    },
    {
      "cell_type": "code",
      "execution_count": null,
      "metadata": {
        "id": "jSPN1dSmcA4L"
      },
      "outputs": [],
      "source": [
        "import sympy as sp\n",
        "x, y = sp.symbols('x, y')"
      ]
    },
    {
      "cell_type": "code",
      "source": [
        "def factorial(n):\n",
        "    f = 1\n",
        "    for i in range(2, n + 1):\n",
        "        f *= i\n",
        "    return f\n",
        "\n",
        "def taylorSeriesMethod(fx, x0, y0, x1):\n",
        "    arr = [y0]\n",
        "    for i in range(5):\n",
        "        arr.append(sp.diff(fx, x, i))\n",
        "    print(arr)"
      ],
      "metadata": {
        "id": "5sc6q7oVeWpv"
      },
      "execution_count": null,
      "outputs": []
    },
    {
      "cell_type": "code",
      "source": [
        "def eulersMethod(fx, x0, y0, x1):\n",
        "    n = 10\n",
        "    h = (x1 - x0) / n\n",
        "    for i in range(n):\n",
        "        sub = fx.subs([(x, x0), (y, y0)])\n",
        "        x0 = x0 + h\n",
        "        y0 = y0 + h * sub\n",
        "    return y0"
      ],
      "metadata": {
        "id": "EoybvjseeW56"
      },
      "execution_count": null,
      "outputs": []
    },
    {
      "cell_type": "code",
      "source": [
        "def modifiedEulersMethod(fx, x0, y0, x1):\n",
        "    h = 0.1\n",
        "\n",
        "    while x1 - x0 > 0.00001:\n",
        "        y0 += h * fx.subs([(x, x0 + 0.5 * h), (y, y0 + 0.5 * h * fx.subs([(x, x0), (y, y0)]))])\n",
        "        x0 += h\n",
        "    return y0"
      ],
      "metadata": {
        "id": "3HZxUiEFebas"
      },
      "execution_count": null,
      "outputs": []
    },
    {
      "cell_type": "code",
      "source": [
        "def rungeKuttaMethod(fx, x0, y0, x1):\n",
        "    h = 0.1\n",
        "    while x1 - x0 > 0.00001:\n",
        "        k1 = h * fx.subs([(x, x0), (y, y0)])\n",
        "        k2 = h * fx.subs([(x, x0 + 0.5 * h), (y, y0 + 0.5 * k1)])\n",
        "        k3 = h * fx.subs([(x, x0 + 0.5 * h), (y, y0 + 0.5 * k2)])\n",
        "        k4 = h * fx.subs([(x, x0 + h), (y, y0 + k3)])\n",
        "        k = (k1 + 2 * k2 + 2 * k3 + k4) / 6\n",
        "        y0 += k\n",
        "        x0 += h\n",
        "    return sp.N(y0)"
      ],
      "metadata": {
        "id": "C5ndKRARebsb"
      },
      "execution_count": null,
      "outputs": []
    },
    {
      "cell_type": "code",
      "source": [
        "def milnesPredictorCorrectorMethod(fx, X, Y, x0):\n",
        "    h = X[1] - X[0]\n",
        "    n = len(X) - 1\n",
        "    \n",
        "    pValue = Y[n - 3] + 4 * h * (2 * fx.subs([(x, X[n - 2]), (y, Y[n - 2])]) - fx.subs([(x, X[n - 1]), (y, Y[n - 1])]) + 2 * fx.subs([(x, X[n]), (y, Y[n])])) / 3\n",
        "    cValue = Y[n - 1] + h * (fx.subs([(x, X[n - 1]), (y, Y[n - 1])]) + fx.subs([(x, X[n] + h), (y, pValue)]) + 4 * fx.subs([(x, X[n]), (y, Y[n])])) / 3\n",
        "    print(f'y({x0}) = {cValue}')"
      ],
      "metadata": {
        "id": "wc9IVq6Scpt_"
      },
      "execution_count": null,
      "outputs": []
    },
    {
      "cell_type": "code",
      "source": [
        "def adamBashforthMethod(fx, X, Y, x0):\n",
        "    h = X[1] - X[0]\n",
        "    n = len(X) - 1\n",
        "\n",
        "    pValue = Y[n] + h * (55 * fx.subs([(x, X[n]), (y, Y[n])]) - 59 * fx.subs([(x, X[n - 1]), (y, Y[n - 1])]) + 37 * fx.subs([(x, X[n - 2]), (y, Y[n - 2])]) - 9 * fx.subs([(x, X[n - 3]), (y, Y[n - 3])])) / 24\n",
        "    cValue = Y[n] + h * (9 * fx.subs([(x, X[n] + h), (y, pValue)]) + 19 * fx.subs([(x, X[n]), (y, Y[n])]) - 5 * fx.subs([(x, X[n - 1]), (y, Y[n - 1])]) + fx.subs([(x, X[n - 2]), (y, Y[n - 2])])) / 24\n",
        "    print(f'y({x0}) = {cValue}')"
      ],
      "metadata": {
        "id": "PpzP-f3OdIOj"
      },
      "execution_count": null,
      "outputs": []
    },
    {
      "cell_type": "markdown",
      "source": [
        "## Q1"
      ],
      "metadata": {
        "id": "jS7xk5zEcoG9"
      }
    },
    {
      "cell_type": "code",
      "source": [
        "milnesPredictorCorrectorMethod((1 + x ** 2) * y ** 2, [0, 0.1, 0.2, 0.3], [1, 1.06, 1.12, 1.21], 0.4)\n",
        "adamBashforthMethod((1 + x ** 2) * y ** 2, [0, 0.1, 0.2, 0.3], [1, 1.06, 1.12, 1.21], 0.4)"
      ],
      "metadata": {
        "colab": {
          "base_uri": "https://localhost:8080/"
        },
        "id": "nYFQeECMdlto",
        "outputId": "4bf67118-2e69-4f81-f791-0d029cb2040e"
      },
      "execution_count": null,
      "outputs": [
        {
          "output_type": "stream",
          "name": "stdout",
          "text": [
            "y(0.4) = 1.46967454135000\n",
            "y(0.4) = 1.39823422478104\n"
          ]
        }
      ]
    },
    {
      "cell_type": "markdown",
      "source": [
        "## Q2"
      ],
      "metadata": {
        "id": "u8138TM5dXJW"
      }
    },
    {
      "cell_type": "code",
      "source": [
        "X = [0.1, 0.2, 0.3]\n",
        "Y = [taylorSeriesMethod(x * y + x ** 2, 0, 1, i) for i in X]\n",
        "X = [0] + X\n",
        "Y = [1] + Y\n",
        "milnesPredictorCorrectorMethod(x * y + x ** 2, X, Y, 0.4)\n",
        "adamBashforthMethod(x * y + x ** 2, X, Y, 0.4)"
      ],
      "metadata": {
        "colab": {
          "base_uri": "https://localhost:8080/"
        },
        "id": "qipf100Vdgkh",
        "outputId": "e5d23809-aa39-42e8-c660-be4d0bc0a52f"
      },
      "execution_count": null,
      "outputs": [
        {
          "output_type": "stream",
          "name": "stdout",
          "text": [
            "[1, x**2 + x*y, 2*x + y, 2, 0, 0]\n",
            "[1, x**2 + x*y, 2*x + y, 2, 0, 0]\n",
            "[1, x**2 + x*y, 2*x + y, 2, 0, 0]\n"
          ]
        }
      ]
    },
    {
      "cell_type": "markdown",
      "source": [
        "## Q3"
      ],
      "metadata": {
        "id": "pHFKPhYLdXTR"
      }
    },
    {
      "cell_type": "code",
      "source": [
        "X = [0.1, 0.2, 0.3]\n",
        "Y = [rungeKuttaMethod(2 * x * y / (1 + x ** 2), 0, 0, i) for i in X]\n",
        "X = [0] + X\n",
        "Y = [0] + Y\n",
        "milnesPredictorCorrectorMethod(2 * x * y / (1 + x ** 2), X, Y, 0.4)\n",
        "adamBashforthMethod(2 * x * y / (1 + x ** 2), X, Y, 0.4)"
      ],
      "metadata": {
        "colab": {
          "base_uri": "https://localhost:8080/"
        },
        "id": "XiP6xfDpdhM1",
        "outputId": "dd310ed6-240e-4a1d-d83e-581b1c2da6f0"
      },
      "execution_count": null,
      "outputs": [
        {
          "output_type": "stream",
          "name": "stdout",
          "text": [
            "y(0.4) = 0\n",
            "y(0.4) = 0\n"
          ]
        }
      ]
    },
    {
      "cell_type": "markdown",
      "source": [
        "## Q4"
      ],
      "metadata": {
        "id": "hsArfDmFdXcY"
      }
    },
    {
      "cell_type": "code",
      "source": [
        "X = [0.1, 0.2, 0.3]\n",
        "Y = [eulersMethod(2 * x * y / (1 + x ** 2), 0, 0, i) for i in X]\n",
        "X = [0] + X\n",
        "Y = [0] + Y\n",
        "milnesPredictorCorrectorMethod(2 * x * y / (1 + x ** 2), X, Y, 0.4)\n",
        "adamBashforthMethod(2 * x * y / (1 + x ** 2), X, Y, 0.4)"
      ],
      "metadata": {
        "colab": {
          "base_uri": "https://localhost:8080/"
        },
        "id": "cyLyjvOhdh1A",
        "outputId": "03c74013-536c-4747-baf5-f5c0e2d1f661"
      },
      "execution_count": null,
      "outputs": [
        {
          "output_type": "stream",
          "name": "stdout",
          "text": [
            "y(0.4) = 0\n",
            "y(0.4) = 0\n"
          ]
        }
      ]
    },
    {
      "cell_type": "markdown",
      "source": [
        "## Q5"
      ],
      "metadata": {
        "id": "qoR-VyIudd_6"
      }
    },
    {
      "cell_type": "code",
      "source": [
        "X = [4.1, 4.2, 4.3]\n",
        "Y = [modifiedEulersMethod((2 - y ** 2) / (5 * x), 4, 1, i) for i in X]\n",
        "X = [4] + X\n",
        "Y = [1] + Y\n",
        "milnesPredictorCorrectorMethod((2 - y ** 2) / (5 * x), X, Y, 4.4)\n",
        "adamBashforthMethod((2 - y ** 2) / (5 * x), X, Y, 4.4)"
      ],
      "metadata": {
        "colab": {
          "base_uri": "https://localhost:8080/"
        },
        "id": "8jUw10-Ydike",
        "outputId": "a6bd0264-613a-4d07-ce9f-5a60aba93286"
      },
      "execution_count": null,
      "outputs": [
        {
          "output_type": "stream",
          "name": "stdout",
          "text": [
            "y(4.4) = 1.01869985718696\n",
            "y(4.4) = 1.01869932706887\n"
          ]
        }
      ]
    },
    {
      "cell_type": "code",
      "source": [
        "factorial(5)"
      ],
      "metadata": {
        "colab": {
          "base_uri": "https://localhost:8080/"
        },
        "id": "2YNZEiLauFHH",
        "outputId": "ea6996d5-d1bd-4d92-94f9-710d864b3fe5"
      },
      "execution_count": null,
      "outputs": [
        {
          "output_type": "execute_result",
          "data": {
            "text/plain": [
              "120"
            ]
          },
          "metadata": {},
          "execution_count": 49
        }
      ]
    }
  ]
}